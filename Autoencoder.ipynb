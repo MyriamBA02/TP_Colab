{
  "nbformat": 4,
  "nbformat_minor": 0,
  "metadata": {
    "colab": {
      "provenance": [],
      "authorship_tag": "ABX9TyO7vxt5WV6HUbfgUQLRuQxr",
      "include_colab_link": true
    },
    "kernelspec": {
      "name": "python3",
      "display_name": "Python 3"
    },
    "language_info": {
      "name": "python"
    }
  },
  "cells": [
    {
      "cell_type": "markdown",
      "metadata": {
        "id": "view-in-github",
        "colab_type": "text"
      },
      "source": [
        "<a href=\"https://colab.research.google.com/github/MyriamBA02/TP_Colab/blob/main/Autoencoder.ipynb\" target=\"_parent\"><img src=\"https://colab.research.google.com/assets/colab-badge.svg\" alt=\"Open In Colab\"/></a>"
      ]
    },
    {
      "cell_type": "code",
      "execution_count": null,
      "metadata": {
        "colab": {
          "base_uri": "https://localhost:8080/"
        },
        "id": "axH94znhF4g5",
        "outputId": "e8ea3abd-e2a6-45eb-b7d1-817a4df9ed9d"
      },
      "outputs": [
        {
          "output_type": "stream",
          "name": "stdout",
          "text": [
            "Downloading data from https://storage.googleapis.com/tensorflow/tf-keras-datasets/mnist.npz\n",
            "11490434/11490434 [==============================] - 0s 0us/step\n"
          ]
        }
      ],
      "source": [
        "import numpy as np\n",
        "import matplotlib.pyplot as plt\n",
        "from keras.models import Model\n",
        "from keras.layers import Dense,Input\n",
        "from keras.datasets import mnist\n",
        "(X_train,y_train),(X_test,y_test) = mnist.load_data()"
      ]
    },
    {
      "cell_type": "code",
      "source": [
        "from google.colab import drive\n",
        "drive.mount('/content/drive')"
      ],
      "metadata": {
        "colab": {
          "base_uri": "https://localhost:8080/"
        },
        "id": "Wg41054mGvPz",
        "outputId": "6e90d598-2e1e-4198-afd0-28e9dd50b282"
      },
      "execution_count": null,
      "outputs": [
        {
          "output_type": "stream",
          "name": "stdout",
          "text": [
            "Mounted at /content/drive\n"
          ]
        }
      ]
    },
    {
      "cell_type": "code",
      "source": [
        "#normalisation\n",
        "x_train= X_train.astype('float32')/255.0\n",
        "x_test=X_test.astype('float32')/255.0"
      ],
      "metadata": {
        "id": "w_f2wjzsG35S"
      },
      "execution_count": null,
      "outputs": []
    },
    {
      "cell_type": "code",
      "source": [
        "x_train1= x_train.reshape(x_train.shape[0],x_train.shape[1]*x_train.shape[2])\n",
        "x_test1= x_test.reshape(x_test.shape[0],x_test.shape[1]*x_test.shape[2])"
      ],
      "metadata": {
        "id": "JYHhjb9wG7DD"
      },
      "execution_count": null,
      "outputs": []
    },
    {
      "cell_type": "code",
      "source": [
        "Input_size = 784\n",
        "\n",
        "Number_Neuron_Hidden_Layer =128  # 128\n",
        "\n",
        "code_size = 32 #32\n",
        "\n",
        "Input_Layer = Input(shape=(Input_size))\n",
        "\n",
        "Hidden_Encoder = Dense(Number_Neuron_Hidden_Layer, activation='relu')(Input_Layer)\n",
        "\n",
        "code = Dense(code_size, activation='relu')(Hidden_Encoder)\n",
        "\n",
        "Hidden_Decoder = Dense(Number_Neuron_Hidden_Layer, activation='relu')(code)\n",
        "\n",
        "Output_Layer = Dense(Input_size, activation='sigmoid')(Hidden_Decoder) # Output should be between 0 and 1 as the input : normalization\n",
        "\n",
        "autoencoder = Model(Input_Layer, Output_Layer)\n",
        "\n",
        "autoencoder.compile(optimizer='adam', loss='binary_crossentropy')\n",
        "\n",
        "autoencoder.fit(x_train1, x_train1, epochs=3)"
      ],
      "metadata": {
        "colab": {
          "base_uri": "https://localhost:8080/"
        },
        "id": "xpiF1OWEG-58",
        "outputId": "b9bca2ac-c822-4865-968e-2c02aa249965"
      },
      "execution_count": null,
      "outputs": [
        {
          "output_type": "stream",
          "name": "stdout",
          "text": [
            "Epoch 1/3\n",
            "1875/1875 [==============================] - 13s 6ms/step - loss: 0.1397\n",
            "Epoch 2/3\n",
            "1875/1875 [==============================] - 10s 5ms/step - loss: 0.0997\n",
            "Epoch 3/3\n",
            "1875/1875 [==============================] - 10s 5ms/step - loss: 0.0936\n"
          ]
        },
        {
          "output_type": "execute_result",
          "data": {
            "text/plain": [
              "<keras.callbacks.History at 0x7fccd8aa9400>"
            ]
          },
          "metadata": {},
          "execution_count": 5
        }
      ]
    },
    {
      "cell_type": "code",
      "source": [
        "image_prediction_test = autoencoder.predict(x_test1)\n",
        "image_prediction_test"
      ],
      "metadata": {
        "colab": {
          "base_uri": "https://localhost:8080/"
        },
        "id": "hfqmMCDkHCpO",
        "outputId": "5d61c3eb-fca3-4d67-eba4-5c1411cf6ac0"
      },
      "execution_count": null,
      "outputs": [
        {
          "output_type": "stream",
          "name": "stdout",
          "text": [
            "313/313 [==============================] - 1s 2ms/step\n"
          ]
        },
        {
          "output_type": "execute_result",
          "data": {
            "text/plain": [
              "array([[5.2533107e-09, 3.6260602e-08, 5.8182130e-09, ..., 5.6895191e-09,\n",
              "        4.5020250e-09, 2.5159514e-08],\n",
              "       [5.4910867e-09, 5.4217124e-09, 5.9588241e-09, ..., 8.4617092e-08,\n",
              "        8.1890911e-10, 7.2052835e-09],\n",
              "       [6.7959394e-10, 1.6827066e-10, 2.0875063e-10, ..., 4.7591278e-11,\n",
              "        4.9053032e-11, 1.6470816e-10],\n",
              "       ...,\n",
              "       [4.9545212e-10, 7.9351864e-10, 1.4953691e-10, ..., 2.5896358e-11,\n",
              "        6.2144212e-10, 2.4287844e-10],\n",
              "       [2.0617092e-08, 4.3140105e-08, 1.1818056e-08, ..., 2.8390680e-08,\n",
              "        3.5593508e-09, 1.7844478e-08],\n",
              "       [2.4088218e-10, 4.4090166e-12, 2.0944727e-11, ..., 1.8871965e-10,\n",
              "        3.6882466e-11, 1.2058301e-11]], dtype=float32)"
            ]
          },
          "metadata": {},
          "execution_count": 6
        }
      ]
    }
  ]
}