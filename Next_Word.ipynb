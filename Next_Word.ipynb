{
  "nbformat": 4,
  "nbformat_minor": 0,
  "metadata": {
    "colab": {
      "provenance": [],
      "authorship_tag": "ABX9TyMo+sPNkvy73UU3CygOdxZc",
      "include_colab_link": true
    },
    "kernelspec": {
      "name": "python3",
      "display_name": "Python 3"
    },
    "language_info": {
      "name": "python"
    }
  },
  "cells": [
    {
      "cell_type": "markdown",
      "metadata": {
        "id": "view-in-github",
        "colab_type": "text"
      },
      "source": [
        "<a href=\"https://colab.research.google.com/github/MyriamBA02/TP_Colab/blob/main/Next_Word.ipynb\" target=\"_parent\"><img src=\"https://colab.research.google.com/assets/colab-badge.svg\" alt=\"Open In Colab\"/></a>"
      ]
    },
    {
      "cell_type": "code",
      "execution_count": 1,
      "metadata": {
        "id": "gXv7dYRiezq4"
      },
      "outputs": [],
      "source": [
        "data=\"\"\"Artificial Intelligence (AI) is a technical science that studies and develops theories, methods, technologies, and applications for simulating and extending human intelligence. The purpose of AI is to enable machines to think like\n",
        "\n",
        "people and to make machines intelligent. Today, AI has become an interdisciplinary course that involves various fields.\"\"\""
      ]
    },
    {
      "cell_type": "code",
      "source": [
        "corpus = data.lower().split('\\n')\n",
        "print(len(corpus))\n",
        "print(type(corpus))\n",
        "print(corpus[:2])"
      ],
      "metadata": {
        "colab": {
          "base_uri": "https://localhost:8080/"
        },
        "id": "a7qhfbuQe5Va",
        "outputId": "e8663123-52ff-452e-daf8-a9e7597428e0"
      },
      "execution_count": 2,
      "outputs": [
        {
          "output_type": "stream",
          "name": "stdout",
          "text": [
            "3\n",
            "<class 'list'>\n",
            "['artificial intelligence (ai) is a technical science that studies and develops theories, methods, technologies, and applications for simulating and extending human intelligence. the purpose of ai is to enable machines to think like', '']\n"
          ]
        }
      ]
    },
    {
      "cell_type": "code",
      "source": [
        "from keras.preprocessing.text import Tokenizer\n",
        "tokenizer = Tokenizer()\n",
        "tokenizer.fit_on_texts(corpus)\n",
        "word_index = tokenizer.word_index\n",
        "total_unique_words = len(tokenizer.word_index) + 1 \n",
        "print(total_unique_words)"
      ],
      "metadata": {
        "colab": {
          "base_uri": "https://localhost:8080/"
        },
        "id": "TFHeIhIBfTF9",
        "outputId": "b04877f7-ddd2-4a22-bb8a-9e650db199cd"
      },
      "execution_count": 3,
      "outputs": [
        {
          "output_type": "stream",
          "name": "stdout",
          "text": [
            "40\n"
          ]
        }
      ]
    },
    {
      "cell_type": "code",
      "source": [
        "print(word_index)"
      ],
      "metadata": {
        "colab": {
          "base_uri": "https://localhost:8080/"
        },
        "id": "XaCKrA3jfXs0",
        "outputId": "75558b59-c4f4-45de-b066-086d7dc5e457"
      },
      "execution_count": 4,
      "outputs": [
        {
          "output_type": "stream",
          "name": "stdout",
          "text": [
            "{'and': 1, 'ai': 2, 'to': 3, 'intelligence': 4, 'is': 5, 'that': 6, 'machines': 7, 'artificial': 8, 'a': 9, 'technical': 10, 'science': 11, 'studies': 12, 'develops': 13, 'theories': 14, 'methods': 15, 'technologies': 16, 'applications': 17, 'for': 18, 'simulating': 19, 'extending': 20, 'human': 21, 'the': 22, 'purpose': 23, 'of': 24, 'enable': 25, 'think': 26, 'like': 27, 'people': 28, 'make': 29, 'intelligent': 30, 'today': 31, 'has': 32, 'become': 33, 'an': 34, 'interdisciplinary': 35, 'course': 36, 'involves': 37, 'various': 38, 'fields': 39}\n"
          ]
        }
      ]
    },
    {
      "cell_type": "code",
      "source": [
        "for line in corpus:\n",
        "   seqs = tokenizer.texts_to_sequences([line])[0]\n",
        "print(seqs)"
      ],
      "metadata": {
        "colab": {
          "base_uri": "https://localhost:8080/"
        },
        "id": "Zng8OYv7fdJz",
        "outputId": "7cc51850-21b3-4f82-b71a-fd54827152a3"
      },
      "execution_count": 5,
      "outputs": [
        {
          "output_type": "stream",
          "name": "stdout",
          "text": [
            "[28, 1, 3, 29, 7, 30, 31, 2, 32, 33, 34, 35, 36, 6, 37, 38, 39]\n"
          ]
        }
      ]
    },
    {
      "cell_type": "code",
      "source": [
        "input_sequences = []\n",
        "for line in corpus:\n",
        "  token_list = tokenizer.texts_to_sequences([line])[0]\n",
        "  for i in range(1, len(token_list)): \n",
        "    n_gram_seqs = token_list[:i+1]\n",
        "    input_sequences.append(n_gram_seqs)\n",
        "print(len(input_sequences))\n",
        "print(input_sequences)"
      ],
      "metadata": {
        "colab": {
          "base_uri": "https://localhost:8080/"
        },
        "id": "nO8aSTLnfizr",
        "outputId": "1d44d583-c05f-479c-c405-c6755d3ae16d"
      },
      "execution_count": 6,
      "outputs": [
        {
          "output_type": "stream",
          "name": "stdout",
          "text": [
            "48\n",
            "[[8, 4], [8, 4, 2], [8, 4, 2, 5], [8, 4, 2, 5, 9], [8, 4, 2, 5, 9, 10], [8, 4, 2, 5, 9, 10, 11], [8, 4, 2, 5, 9, 10, 11, 6], [8, 4, 2, 5, 9, 10, 11, 6, 12], [8, 4, 2, 5, 9, 10, 11, 6, 12, 1], [8, 4, 2, 5, 9, 10, 11, 6, 12, 1, 13], [8, 4, 2, 5, 9, 10, 11, 6, 12, 1, 13, 14], [8, 4, 2, 5, 9, 10, 11, 6, 12, 1, 13, 14, 15], [8, 4, 2, 5, 9, 10, 11, 6, 12, 1, 13, 14, 15, 16], [8, 4, 2, 5, 9, 10, 11, 6, 12, 1, 13, 14, 15, 16, 1], [8, 4, 2, 5, 9, 10, 11, 6, 12, 1, 13, 14, 15, 16, 1, 17], [8, 4, 2, 5, 9, 10, 11, 6, 12, 1, 13, 14, 15, 16, 1, 17, 18], [8, 4, 2, 5, 9, 10, 11, 6, 12, 1, 13, 14, 15, 16, 1, 17, 18, 19], [8, 4, 2, 5, 9, 10, 11, 6, 12, 1, 13, 14, 15, 16, 1, 17, 18, 19, 1], [8, 4, 2, 5, 9, 10, 11, 6, 12, 1, 13, 14, 15, 16, 1, 17, 18, 19, 1, 20], [8, 4, 2, 5, 9, 10, 11, 6, 12, 1, 13, 14, 15, 16, 1, 17, 18, 19, 1, 20, 21], [8, 4, 2, 5, 9, 10, 11, 6, 12, 1, 13, 14, 15, 16, 1, 17, 18, 19, 1, 20, 21, 4], [8, 4, 2, 5, 9, 10, 11, 6, 12, 1, 13, 14, 15, 16, 1, 17, 18, 19, 1, 20, 21, 4, 22], [8, 4, 2, 5, 9, 10, 11, 6, 12, 1, 13, 14, 15, 16, 1, 17, 18, 19, 1, 20, 21, 4, 22, 23], [8, 4, 2, 5, 9, 10, 11, 6, 12, 1, 13, 14, 15, 16, 1, 17, 18, 19, 1, 20, 21, 4, 22, 23, 24], [8, 4, 2, 5, 9, 10, 11, 6, 12, 1, 13, 14, 15, 16, 1, 17, 18, 19, 1, 20, 21, 4, 22, 23, 24, 2], [8, 4, 2, 5, 9, 10, 11, 6, 12, 1, 13, 14, 15, 16, 1, 17, 18, 19, 1, 20, 21, 4, 22, 23, 24, 2, 5], [8, 4, 2, 5, 9, 10, 11, 6, 12, 1, 13, 14, 15, 16, 1, 17, 18, 19, 1, 20, 21, 4, 22, 23, 24, 2, 5, 3], [8, 4, 2, 5, 9, 10, 11, 6, 12, 1, 13, 14, 15, 16, 1, 17, 18, 19, 1, 20, 21, 4, 22, 23, 24, 2, 5, 3, 25], [8, 4, 2, 5, 9, 10, 11, 6, 12, 1, 13, 14, 15, 16, 1, 17, 18, 19, 1, 20, 21, 4, 22, 23, 24, 2, 5, 3, 25, 7], [8, 4, 2, 5, 9, 10, 11, 6, 12, 1, 13, 14, 15, 16, 1, 17, 18, 19, 1, 20, 21, 4, 22, 23, 24, 2, 5, 3, 25, 7, 3], [8, 4, 2, 5, 9, 10, 11, 6, 12, 1, 13, 14, 15, 16, 1, 17, 18, 19, 1, 20, 21, 4, 22, 23, 24, 2, 5, 3, 25, 7, 3, 26], [8, 4, 2, 5, 9, 10, 11, 6, 12, 1, 13, 14, 15, 16, 1, 17, 18, 19, 1, 20, 21, 4, 22, 23, 24, 2, 5, 3, 25, 7, 3, 26, 27], [28, 1], [28, 1, 3], [28, 1, 3, 29], [28, 1, 3, 29, 7], [28, 1, 3, 29, 7, 30], [28, 1, 3, 29, 7, 30, 31], [28, 1, 3, 29, 7, 30, 31, 2], [28, 1, 3, 29, 7, 30, 31, 2, 32], [28, 1, 3, 29, 7, 30, 31, 2, 32, 33], [28, 1, 3, 29, 7, 30, 31, 2, 32, 33, 34], [28, 1, 3, 29, 7, 30, 31, 2, 32, 33, 34, 35], [28, 1, 3, 29, 7, 30, 31, 2, 32, 33, 34, 35, 36], [28, 1, 3, 29, 7, 30, 31, 2, 32, 33, 34, 35, 36, 6], [28, 1, 3, 29, 7, 30, 31, 2, 32, 33, 34, 35, 36, 6, 37], [28, 1, 3, 29, 7, 30, 31, 2, 32, 33, 34, 35, 36, 6, 37, 38], [28, 1, 3, 29, 7, 30, 31, 2, 32, 33, 34, 35, 36, 6, 37, 38, 39]]\n"
          ]
        }
      ]
    },
    {
      "cell_type": "code",
      "source": [
        "\n",
        "pip install tf"
      ],
      "metadata": {
        "colab": {
          "base_uri": "https://localhost:8080/"
        },
        "id": "FVrz26qrfmbc",
        "outputId": "1c900f7b-3dc8-4bdc-bf82-750e2570ef18"
      },
      "execution_count": 7,
      "outputs": [
        {
          "output_type": "stream",
          "name": "stdout",
          "text": [
            "Looking in indexes: https://pypi.org/simple, https://us-python.pkg.dev/colab-wheels/public/simple/\n",
            "Collecting tf\n",
            "  Downloading tf-1.0.0.tar.gz (620 bytes)\n",
            "Building wheels for collected packages: tf\n",
            "  Building wheel for tf (setup.py) ... \u001b[?25l\u001b[?25hdone\n",
            "  Created wheel for tf: filename=tf-1.0.0-py3-none-any.whl size=1283 sha256=7a67d81a933fe5c3521e71ce829f324c9f0036f225db329a43faf878de99f4f9\n",
            "  Stored in directory: /root/.cache/pip/wheels/2c/6e/f8/1e3b5bd4457a9ca1240eb36a4799a0a4a24db275ba5f787a24\n",
            "Successfully built tf\n",
            "Installing collected packages: tf\n",
            "Successfully installed tf-1.0.0\n"
          ]
        }
      ]
    },
    {
      "cell_type": "code",
      "source": [
        "import csv\n",
        "import nltk\n",
        "import string\n",
        "import pandas as pd\n",
        "import numpy as np\n",
        "from google.colab import drive\n",
        "from keras import backend as K\n",
        "import tensorflow as tf\n",
        "#from keras.preprocessing.sequence import pad_sequences\n",
        "from keras.layers import Embedding, LSTM, Dense, Bidirectional\n",
        "from keras.preprocessing.text import Tokenizer\n",
        "from keras.models import Sequential\n",
        "from tensorflow.keras.optimizers import Adam\n",
        "\n"
      ],
      "metadata": {
        "id": "_rhAxHOdfp5-"
      },
      "execution_count": 10,
      "outputs": []
    },
    {
      "cell_type": "code",
      "source": [
        "from keras_preprocessing.sequence import pad_sequences\n",
        "max_seq_length = max([len(x) for x in input_sequences])\n",
        "input_seqs = np.array(pad_sequences(input_sequences, maxlen=max_seq_length, padding='pre'))\n",
        "print(max_seq_length)\n",
        "print(input_seqs[:5])"
      ],
      "metadata": {
        "colab": {
          "base_uri": "https://localhost:8080/"
        },
        "id": "npvCMcPof5d1",
        "outputId": "99ba3a77-9444-477d-ef0b-51b539962baa"
      },
      "execution_count": 15,
      "outputs": [
        {
          "output_type": "stream",
          "name": "stdout",
          "text": [
            "33\n",
            "[[ 0  0  0  0  0  0  0  0  0  0  0  0  0  0  0  0  0  0  0  0  0  0  0  0\n",
            "   0  0  0  0  0  0  0  8  4]\n",
            " [ 0  0  0  0  0  0  0  0  0  0  0  0  0  0  0  0  0  0  0  0  0  0  0  0\n",
            "   0  0  0  0  0  0  8  4  2]\n",
            " [ 0  0  0  0  0  0  0  0  0  0  0  0  0  0  0  0  0  0  0  0  0  0  0  0\n",
            "   0  0  0  0  0  8  4  2  5]\n",
            " [ 0  0  0  0  0  0  0  0  0  0  0  0  0  0  0  0  0  0  0  0  0  0  0  0\n",
            "   0  0  0  0  8  4  2  5  9]\n",
            " [ 0  0  0  0  0  0  0  0  0  0  0  0  0  0  0  0  0  0  0  0  0  0  0  0\n",
            "   0  0  0  8  4  2  5  9 10]]\n"
          ]
        }
      ]
    },
    {
      "cell_type": "code",
      "source": [
        "from tensorflow.keras.utils import to_categorical\n",
        "x_values, labels = input_seqs[:, :-1], input_seqs[:, -1]\n",
        "y_values = to_categorical(labels, num_classes=total_unique_words)\n",
        "print(x_values[:3])\n",
        "print(labels[:3])"
      ],
      "metadata": {
        "colab": {
          "base_uri": "https://localhost:8080/"
        },
        "id": "O5IQ9lgOgLEA",
        "outputId": "063b8421-e215-4ef8-9713-1c06759d8805"
      },
      "execution_count": 16,
      "outputs": [
        {
          "output_type": "stream",
          "name": "stdout",
          "text": [
            "[[0 0 0 0 0 0 0 0 0 0 0 0 0 0 0 0 0 0 0 0 0 0 0 0 0 0 0 0 0 0 0 8]\n",
            " [0 0 0 0 0 0 0 0 0 0 0 0 0 0 0 0 0 0 0 0 0 0 0 0 0 0 0 0 0 0 8 4]\n",
            " [0 0 0 0 0 0 0 0 0 0 0 0 0 0 0 0 0 0 0 0 0 0 0 0 0 0 0 0 0 8 4 2]]\n",
            "[4 2 5]\n"
          ]
        }
      ]
    },
    {
      "cell_type": "code",
      "source": [
        "print(tokenizer.word_index['ai'])\n",
        "print(tokenizer.word_index['intelligence'])\n",
        "embeddings_matrix = np.zeros((total_unique_words, 100))"
      ],
      "metadata": {
        "colab": {
          "base_uri": "https://localhost:8080/"
        },
        "id": "TMBBid6ygOs0",
        "outputId": "97a9793b-1961-4675-83d0-b49b51c8062b"
      },
      "execution_count": 17,
      "outputs": [
        {
          "output_type": "stream",
          "name": "stdout",
          "text": [
            "2\n",
            "4\n"
          ]
        }
      ]
    },
    {
      "cell_type": "code",
      "source": [
        "K.clear_session()\n",
        "model = tf.keras.Sequential([\n",
        "tf.keras.layers.Embedding(input_dim = total_unique_words, \n",
        "output_dim=100, weights=[embeddings_matrix], \n",
        "input_length=max_seq_length-1, trainable=False),\n",
        "tf.keras.layers.Bidirectional(tf.keras.layers.LSTM(256, \n",
        "return_sequences=True)),\n",
        "tf.keras.layers.Dropout(0.2), \n",
        "tf.keras.layers.Bidirectional(tf.keras.layers.LSTM(256)),\n",
        "tf.keras.layers.Dropout(0.2),\n",
        "tf.keras.layers.Dense(128, activation='relu'),\n",
        "tf.keras.layers.Dense(total_unique_words , activation='softmax')])\n",
        "model.compile(optimizer=Adam(learning_rate=0.001), \n",
        "              loss='categorical_crossentropy', metrics=['accuracy'])\n",
        "tf.keras.utils.plot_model(model, show_shapes=True)"
      ],
      "metadata": {
        "colab": {
          "base_uri": "https://localhost:8080/",
          "height": 865
        },
        "id": "1Zx_WsOhgSBA",
        "outputId": "4d4a6160-1a0e-4473-aaa6-187d8506bc33"
      },
      "execution_count": 18,
      "outputs": [
        {
          "output_type": "execute_result",
          "data": {
            "image/png": "[encoded data removed]",
            "text/plain": [
              "<IPython.core.display.Image object>"
            ]
          },
          "metadata": {},
          "execution_count": 18
        }
      ]
    },
    {
      "cell_type": "code",
      "source": [
        "\n",
        "history = model.fit(x_values, y_values, epochs=120, \n",
        "                    validation_split=0.2, verbose=1, batch_size=256)"
      ],
      "metadata": {
        "colab": {
          "base_uri": "https://localhost:8080/"
        },
        "id": "Y5Q6bhUpgXyC",
        "outputId": "c4c2d51d-768e-4bdf-c76f-de38aad08b36"
      },
      "execution_count": 19,
      "outputs": [
        {
          "output_type": "stream",
          "name": "stdout",
          "text": [
            "Epoch 1/120\n",
            "1/1 [==============================] - 14s 14s/step - loss: 3.6889 - accuracy: 0.0000e+00 - val_loss: 3.6899 - val_accuracy: 0.0000e+00\n",
            "Epoch 2/120\n",
            "1/1 [==============================] - 1s 1s/step - loss: 3.6883 - accuracy: 0.1053 - val_loss: 3.6910 - val_accuracy: 0.0000e+00\n",
            "Epoch 3/120\n",
            "1/1 [==============================] - 1s 971ms/step - loss: 3.6878 - accuracy: 0.1053 - val_loss: 3.6920 - val_accuracy: 0.0000e+00\n",
            "Epoch 4/120\n",
            "1/1 [==============================] - 1s 865ms/step - loss: 3.6872 - accuracy: 0.1053 - val_loss: 3.6931 - val_accuracy: 0.0000e+00\n",
            "Epoch 5/120\n",
            "1/1 [==============================] - 1s 873ms/step - loss: 3.6867 - accuracy: 0.1053 - val_loss: 3.6941 - val_accuracy: 0.0000e+00\n",
            "Epoch 6/120\n",
            "1/1 [==============================] - 1s 861ms/step - loss: 3.6861 - accuracy: 0.1053 - val_loss: 3.6952 - val_accuracy: 0.0000e+00\n",
            "Epoch 7/120\n",
            "1/1 [==============================] - 1s 850ms/step - loss: 3.6856 - accuracy: 0.1053 - val_loss: 3.6962 - val_accuracy: 0.0000e+00\n",
            "Epoch 8/120\n",
            "1/1 [==============================] - 1s 877ms/step - loss: 3.6851 - accuracy: 0.1053 - val_loss: 3.6973 - val_accuracy: 0.0000e+00\n",
            "Epoch 9/120\n",
            "1/1 [==============================] - 2s 2s/step - loss: 3.6845 - accuracy: 0.1053 - val_loss: 3.6983 - val_accuracy: 0.0000e+00\n",
            "Epoch 10/120\n",
            "1/1 [==============================] - 1s 1s/step - loss: 3.6840 - accuracy: 0.1053 - val_loss: 3.6994 - val_accuracy: 0.0000e+00\n",
            "Epoch 11/120\n",
            "1/1 [==============================] - 1s 995ms/step - loss: 3.6834 - accuracy: 0.1053 - val_loss: 3.7004 - val_accuracy: 0.0000e+00\n",
            "Epoch 12/120\n",
            "1/1 [==============================] - 1s 852ms/step - loss: 3.6829 - accuracy: 0.1053 - val_loss: 3.7015 - val_accuracy: 0.0000e+00\n",
            "Epoch 13/120\n",
            "1/1 [==============================] - 1s 850ms/step - loss: 3.6823 - accuracy: 0.1053 - val_loss: 3.7025 - val_accuracy: 0.0000e+00\n",
            "Epoch 14/120\n",
            "1/1 [==============================] - 1s 857ms/step - loss: 3.6818 - accuracy: 0.1053 - val_loss: 3.7036 - val_accuracy: 0.0000e+00\n",
            "Epoch 15/120\n",
            "1/1 [==============================] - 1s 1s/step - loss: 3.6813 - accuracy: 0.1053 - val_loss: 3.7046 - val_accuracy: 0.0000e+00\n",
            "Epoch 16/120\n",
            "1/1 [==============================] - 1s 1s/step - loss: 3.6807 - accuracy: 0.1053 - val_loss: 3.7057 - val_accuracy: 0.0000e+00\n",
            "Epoch 17/120\n",
            "1/1 [==============================] - 1s 871ms/step - loss: 3.6802 - accuracy: 0.1053 - val_loss: 3.7067 - val_accuracy: 0.0000e+00\n",
            "Epoch 18/120\n",
            "1/1 [==============================] - 1s 846ms/step - loss: 3.6797 - accuracy: 0.1053 - val_loss: 3.7078 - val_accuracy: 0.0000e+00\n",
            "Epoch 19/120\n",
            "1/1 [==============================] - 1s 881ms/step - loss: 3.6791 - accuracy: 0.1053 - val_loss: 3.7088 - val_accuracy: 0.0000e+00\n",
            "Epoch 20/120\n",
            "1/1 [==============================] - 1s 861ms/step - loss: 3.6786 - accuracy: 0.1053 - val_loss: 3.7099 - val_accuracy: 0.0000e+00\n",
            "Epoch 21/120\n",
            "1/1 [==============================] - 1s 840ms/step - loss: 3.6781 - accuracy: 0.1053 - val_loss: 3.7109 - val_accuracy: 0.0000e+00\n",
            "Epoch 22/120\n",
            "1/1 [==============================] - 1s 869ms/step - loss: 3.6775 - accuracy: 0.1053 - val_loss: 3.7120 - val_accuracy: 0.0000e+00\n",
            "Epoch 23/120\n",
            "1/1 [==============================] - 1s 881ms/step - loss: 3.6770 - accuracy: 0.1053 - val_loss: 3.7130 - val_accuracy: 0.0000e+00\n",
            "Epoch 24/120\n",
            "1/1 [==============================] - 1s 1s/step - loss: 3.6765 - accuracy: 0.1053 - val_loss: 3.7140 - val_accuracy: 0.0000e+00\n",
            "Epoch 25/120\n",
            "1/1 [==============================] - 1s 1s/step - loss: 3.6759 - accuracy: 0.1053 - val_loss: 3.7151 - val_accuracy: 0.0000e+00\n",
            "Epoch 26/120\n",
            "1/1 [==============================] - 1s 870ms/step - loss: 3.6754 - accuracy: 0.1053 - val_loss: 3.7161 - val_accuracy: 0.0000e+00\n",
            "Epoch 27/120\n",
            "1/1 [==============================] - 1s 852ms/step - loss: 3.6749 - accuracy: 0.1053 - val_loss: 3.7171 - val_accuracy: 0.0000e+00\n",
            "Epoch 28/120\n",
            "1/1 [==============================] - 1s 868ms/step - loss: 3.6744 - accuracy: 0.1053 - val_loss: 3.7182 - val_accuracy: 0.0000e+00\n",
            "Epoch 29/120\n",
            "1/1 [==============================] - 1s 830ms/step - loss: 3.6738 - accuracy: 0.1053 - val_loss: 3.7192 - val_accuracy: 0.0000e+00\n",
            "Epoch 30/120\n",
            "1/1 [==============================] - 1s 855ms/step - loss: 3.6733 - accuracy: 0.1053 - val_loss: 3.7202 - val_accuracy: 0.0000e+00\n",
            "Epoch 31/120\n",
            "1/1 [==============================] - 1s 889ms/step - loss: 3.6728 - accuracy: 0.1053 - val_loss: 3.7212 - val_accuracy: 0.0000e+00\n",
            "Epoch 32/120\n",
            "1/1 [==============================] - 1s 856ms/step - loss: 3.6723 - accuracy: 0.1053 - val_loss: 3.7223 - val_accuracy: 0.0000e+00\n",
            "Epoch 33/120\n",
            "1/1 [==============================] - 1s 872ms/step - loss: 3.6717 - accuracy: 0.1053 - val_loss: 3.7233 - val_accuracy: 0.0000e+00\n",
            "Epoch 34/120\n",
            "1/1 [==============================] - 1s 867ms/step - loss: 3.6712 - accuracy: 0.1053 - val_loss: 3.7243 - val_accuracy: 0.0000e+00\n",
            "Epoch 35/120\n",
            "1/1 [==============================] - 1s 838ms/step - loss: 3.6707 - accuracy: 0.1053 - val_loss: 3.7253 - val_accuracy: 0.0000e+00\n",
            "Epoch 36/120\n",
            "1/1 [==============================] - 1s 856ms/step - loss: 3.6702 - accuracy: 0.1053 - val_loss: 3.7263 - val_accuracy: 0.0000e+00\n",
            "Epoch 37/120\n",
            "1/1 [==============================] - 1s 877ms/step - loss: 3.6697 - accuracy: 0.1053 - val_loss: 3.7273 - val_accuracy: 0.0000e+00\n",
            "Epoch 38/120\n",
            "1/1 [==============================] - 1s 854ms/step - loss: 3.6692 - accuracy: 0.1053 - val_loss: 3.7284 - val_accuracy: 0.0000e+00\n",
            "Epoch 39/120\n",
            "1/1 [==============================] - 1s 844ms/step - loss: 3.6686 - accuracy: 0.1053 - val_loss: 3.7294 - val_accuracy: 0.0000e+00\n",
            "Epoch 40/120\n",
            "1/1 [==============================] - 1s 866ms/step - loss: 3.6681 - accuracy: 0.1053 - val_loss: 3.7304 - val_accuracy: 0.0000e+00\n",
            "Epoch 41/120\n",
            "1/1 [==============================] - 1s 863ms/step - loss: 3.6676 - accuracy: 0.1053 - val_loss: 3.7314 - val_accuracy: 0.0000e+00\n",
            "Epoch 42/120\n",
            "1/1 [==============================] - 1s 852ms/step - loss: 3.6671 - accuracy: 0.1053 - val_loss: 3.7324 - val_accuracy: 0.0000e+00\n",
            "Epoch 43/120\n",
            "1/1 [==============================] - 1s 1s/step - loss: 3.6666 - accuracy: 0.1053 - val_loss: 3.7334 - val_accuracy: 0.0000e+00\n",
            "Epoch 44/120\n",
            "1/1 [==============================] - 1s 948ms/step - loss: 3.6661 - accuracy: 0.1053 - val_loss: 3.7343 - val_accuracy: 0.0000e+00\n",
            "Epoch 45/120\n",
            "1/1 [==============================] - 1s 1s/step - loss: 3.6656 - accuracy: 0.1053 - val_loss: 3.7353 - val_accuracy: 0.0000e+00\n",
            "Epoch 46/120\n",
            "1/1 [==============================] - 1s 1s/step - loss: 3.6651 - accuracy: 0.1053 - val_loss: 3.7363 - val_accuracy: 0.0000e+00\n",
            "Epoch 47/120\n",
            "1/1 [==============================] - 1s 947ms/step - loss: 3.6646 - accuracy: 0.1053 - val_loss: 3.7373 - val_accuracy: 0.0000e+00\n",
            "Epoch 48/120\n",
            "1/1 [==============================] - 1s 863ms/step - loss: 3.6641 - accuracy: 0.1053 - val_loss: 3.7383 - val_accuracy: 0.0000e+00\n",
            "Epoch 49/120\n",
            "1/1 [==============================] - 1s 841ms/step - loss: 3.6636 - accuracy: 0.1053 - val_loss: 3.7393 - val_accuracy: 0.0000e+00\n",
            "Epoch 50/120\n",
            "1/1 [==============================] - 1s 889ms/step - loss: 3.6631 - accuracy: 0.1053 - val_loss: 3.7402 - val_accuracy: 0.0000e+00\n",
            "Epoch 51/120\n",
            "1/1 [==============================] - 1s 1s/step - loss: 3.6626 - accuracy: 0.1053 - val_loss: 3.7412 - val_accuracy: 0.0000e+00\n",
            "Epoch 52/120\n",
            "1/1 [==============================] - 1s 1s/step - loss: 3.6621 - accuracy: 0.1053 - val_loss: 3.7422 - val_accuracy: 0.0000e+00\n",
            "Epoch 53/120\n",
            "1/1 [==============================] - 1s 1s/step - loss: 3.6616 - accuracy: 0.1053 - val_loss: 3.7431 - val_accuracy: 0.0000e+00\n",
            "Epoch 54/120\n",
            "1/1 [==============================] - 1s 1s/step - loss: 3.6611 - accuracy: 0.1053 - val_loss: 3.7441 - val_accuracy: 0.0000e+00\n",
            "Epoch 55/120\n",
            "1/1 [==============================] - 1s 1s/step - loss: 3.6606 - accuracy: 0.1053 - val_loss: 3.7450 - val_accuracy: 0.0000e+00\n",
            "Epoch 56/120\n",
            "1/1 [==============================] - 1s 892ms/step - loss: 3.6601 - accuracy: 0.1053 - val_loss: 3.7460 - val_accuracy: 0.0000e+00\n",
            "Epoch 57/120\n",
            "1/1 [==============================] - 1s 859ms/step - loss: 3.6596 - accuracy: 0.1053 - val_loss: 3.7469 - val_accuracy: 0.0000e+00\n",
            "Epoch 58/120\n",
            "1/1 [==============================] - 1s 851ms/step - loss: 3.6591 - accuracy: 0.1053 - val_loss: 3.7479 - val_accuracy: 0.0000e+00\n",
            "Epoch 59/120\n",
            "1/1 [==============================] - 1s 864ms/step - loss: 3.6586 - accuracy: 0.1053 - val_loss: 3.7488 - val_accuracy: 0.0000e+00\n",
            "Epoch 60/120\n",
            "1/1 [==============================] - 1s 914ms/step - loss: 3.6581 - accuracy: 0.1053 - val_loss: 3.7498 - val_accuracy: 0.0000e+00\n",
            "Epoch 61/120\n",
            "1/1 [==============================] - 1s 874ms/step - loss: 3.6576 - accuracy: 0.1053 - val_loss: 3.7507 - val_accuracy: 0.0000e+00\n",
            "Epoch 62/120\n",
            "1/1 [==============================] - 1s 871ms/step - loss: 3.6571 - accuracy: 0.1053 - val_loss: 3.7517 - val_accuracy: 0.0000e+00\n",
            "Epoch 63/120\n",
            "1/1 [==============================] - 1s 848ms/step - loss: 3.6566 - accuracy: 0.1053 - val_loss: 3.7526 - val_accuracy: 0.0000e+00\n",
            "Epoch 64/120\n",
            "1/1 [==============================] - 1s 863ms/step - loss: 3.6561 - accuracy: 0.1053 - val_loss: 3.7535 - val_accuracy: 0.0000e+00\n",
            "Epoch 65/120\n",
            "1/1 [==============================] - 1s 829ms/step - loss: 3.6556 - accuracy: 0.1053 - val_loss: 3.7544 - val_accuracy: 0.0000e+00\n",
            "Epoch 66/120\n",
            "1/1 [==============================] - 1s 872ms/step - loss: 3.6551 - accuracy: 0.1053 - val_loss: 3.7554 - val_accuracy: 0.0000e+00\n",
            "Epoch 67/120\n",
            "1/1 [==============================] - 1s 918ms/step - loss: 3.6546 - accuracy: 0.1053 - val_loss: 3.7563 - val_accuracy: 0.0000e+00\n",
            "Epoch 68/120\n",
            "1/1 [==============================] - 1s 879ms/step - loss: 3.6542 - accuracy: 0.1053 - val_loss: 3.7572 - val_accuracy: 0.0000e+00\n",
            "Epoch 69/120\n",
            "1/1 [==============================] - 1s 869ms/step - loss: 3.6537 - accuracy: 0.1053 - val_loss: 3.7581 - val_accuracy: 0.0000e+00\n",
            "Epoch 70/120\n",
            "1/1 [==============================] - 1s 892ms/step - loss: 3.6532 - accuracy: 0.1053 - val_loss: 3.7590 - val_accuracy: 0.0000e+00\n",
            "Epoch 71/120\n",
            "1/1 [==============================] - 1s 877ms/step - loss: 3.6527 - accuracy: 0.1053 - val_loss: 3.7599 - val_accuracy: 0.0000e+00\n",
            "Epoch 72/120\n",
            "1/1 [==============================] - 1s 858ms/step - loss: 3.6522 - accuracy: 0.1053 - val_loss: 3.7608 - val_accuracy: 0.0000e+00\n",
            "Epoch 73/120\n",
            "1/1 [==============================] - 1s 839ms/step - loss: 3.6517 - accuracy: 0.1053 - val_loss: 3.7617 - val_accuracy: 0.0000e+00\n",
            "Epoch 74/120\n",
            "1/1 [==============================] - 1s 886ms/step - loss: 3.6513 - accuracy: 0.1053 - val_loss: 3.7626 - val_accuracy: 0.0000e+00\n",
            "Epoch 75/120\n",
            "1/1 [==============================] - 1s 841ms/step - loss: 3.6508 - accuracy: 0.1053 - val_loss: 3.7635 - val_accuracy: 0.0000e+00\n",
            "Epoch 76/120\n",
            "1/1 [==============================] - 1s 861ms/step - loss: 3.6503 - accuracy: 0.1053 - val_loss: 3.7644 - val_accuracy: 0.0000e+00\n",
            "Epoch 77/120\n",
            "1/1 [==============================] - 1s 847ms/step - loss: 3.6498 - accuracy: 0.1053 - val_loss: 3.7653 - val_accuracy: 0.0000e+00\n",
            "Epoch 78/120\n",
            "1/1 [==============================] - 1s 816ms/step - loss: 3.6493 - accuracy: 0.1053 - val_loss: 3.7661 - val_accuracy: 0.0000e+00\n",
            "Epoch 79/120\n",
            "1/1 [==============================] - 1s 856ms/step - loss: 3.6489 - accuracy: 0.1053 - val_loss: 3.7670 - val_accuracy: 0.0000e+00\n",
            "Epoch 80/120\n",
            "1/1 [==============================] - 1s 895ms/step - loss: 3.6484 - accuracy: 0.1053 - val_loss: 3.7679 - val_accuracy: 0.0000e+00\n",
            "Epoch 81/120\n",
            "1/1 [==============================] - 1s 836ms/step - loss: 3.6479 - accuracy: 0.1053 - val_loss: 3.7687 - val_accuracy: 0.0000e+00\n",
            "Epoch 82/120\n",
            "1/1 [==============================] - 1s 843ms/step - loss: 3.6474 - accuracy: 0.1053 - val_loss: 3.7696 - val_accuracy: 0.0000e+00\n",
            "Epoch 83/120\n",
            "1/1 [==============================] - 1s 1s/step - loss: 3.6469 - accuracy: 0.1053 - val_loss: 3.7705 - val_accuracy: 0.0000e+00\n",
            "Epoch 84/120\n",
            "1/1 [==============================] - 1s 1s/step - loss: 3.6465 - accuracy: 0.1053 - val_loss: 3.7713 - val_accuracy: 0.0000e+00\n",
            "Epoch 85/120\n",
            "1/1 [==============================] - 1s 842ms/step - loss: 3.6460 - accuracy: 0.1053 - val_loss: 3.7722 - val_accuracy: 0.0000e+00\n",
            "Epoch 86/120\n",
            "1/1 [==============================] - 1s 895ms/step - loss: 3.6455 - accuracy: 0.1053 - val_loss: 3.7730 - val_accuracy: 0.0000e+00\n",
            "Epoch 87/120\n",
            "1/1 [==============================] - 1s 878ms/step - loss: 3.6451 - accuracy: 0.1053 - val_loss: 3.7739 - val_accuracy: 0.0000e+00\n",
            "Epoch 88/120\n",
            "1/1 [==============================] - 1s 845ms/step - loss: 3.6446 - accuracy: 0.1053 - val_loss: 3.7747 - val_accuracy: 0.0000e+00\n",
            "Epoch 89/120\n",
            "1/1 [==============================] - 1s 846ms/step - loss: 3.6441 - accuracy: 0.1053 - val_loss: 3.7756 - val_accuracy: 0.0000e+00\n",
            "Epoch 90/120\n",
            "1/1 [==============================] - 1s 860ms/step - loss: 3.6436 - accuracy: 0.1053 - val_loss: 3.7764 - val_accuracy: 0.0000e+00\n",
            "Epoch 91/120\n",
            "1/1 [==============================] - 1s 860ms/step - loss: 3.6432 - accuracy: 0.1053 - val_loss: 3.7772 - val_accuracy: 0.0000e+00\n",
            "Epoch 92/120\n",
            "1/1 [==============================] - 1s 885ms/step - loss: 3.6427 - accuracy: 0.1053 - val_loss: 3.7781 - val_accuracy: 0.0000e+00\n",
            "Epoch 93/120\n",
            "1/1 [==============================] - 1s 864ms/step - loss: 3.6422 - accuracy: 0.1053 - val_loss: 3.7789 - val_accuracy: 0.0000e+00\n",
            "Epoch 94/120\n",
            "1/1 [==============================] - 1s 1s/step - loss: 3.6418 - accuracy: 0.1053 - val_loss: 3.7797 - val_accuracy: 0.0000e+00\n",
            "Epoch 95/120\n",
            "1/1 [==============================] - 1s 1s/step - loss: 3.6413 - accuracy: 0.1053 - val_loss: 3.7805 - val_accuracy: 0.0000e+00\n",
            "Epoch 96/120\n",
            "1/1 [==============================] - 1s 1s/step - loss: 3.6408 - accuracy: 0.1053 - val_loss: 3.7813 - val_accuracy: 0.0000e+00\n",
            "Epoch 97/120\n",
            "1/1 [==============================] - 1s 853ms/step - loss: 3.6404 - accuracy: 0.1053 - val_loss: 3.7822 - val_accuracy: 0.0000e+00\n",
            "Epoch 98/120\n",
            "1/1 [==============================] - 1s 861ms/step - loss: 3.6399 - accuracy: 0.1053 - val_loss: 3.7830 - val_accuracy: 0.0000e+00\n",
            "Epoch 99/120\n",
            "1/1 [==============================] - 1s 835ms/step - loss: 3.6394 - accuracy: 0.1053 - val_loss: 3.7838 - val_accuracy: 0.0000e+00\n",
            "Epoch 100/120\n",
            "1/1 [==============================] - 1s 827ms/step - loss: 3.6390 - accuracy: 0.1053 - val_loss: 3.7846 - val_accuracy: 0.0000e+00\n",
            "Epoch 101/120\n",
            "1/1 [==============================] - 1s 845ms/step - loss: 3.6385 - accuracy: 0.1053 - val_loss: 3.7854 - val_accuracy: 0.0000e+00\n",
            "Epoch 102/120\n",
            "1/1 [==============================] - 1s 837ms/step - loss: 3.6381 - accuracy: 0.1053 - val_loss: 3.7862 - val_accuracy: 0.0000e+00\n",
            "Epoch 103/120\n",
            "1/1 [==============================] - 1s 917ms/step - loss: 3.6376 - accuracy: 0.1053 - val_loss: 3.7870 - val_accuracy: 0.0000e+00\n",
            "Epoch 104/120\n",
            "1/1 [==============================] - 1s 831ms/step - loss: 3.6371 - accuracy: 0.1053 - val_loss: 3.7877 - val_accuracy: 0.0000e+00\n",
            "Epoch 105/120\n",
            "1/1 [==============================] - 1s 857ms/step - loss: 3.6367 - accuracy: 0.1053 - val_loss: 3.7885 - val_accuracy: 0.0000e+00\n",
            "Epoch 106/120\n",
            "1/1 [==============================] - 1s 858ms/step - loss: 3.6362 - accuracy: 0.1053 - val_loss: 3.7893 - val_accuracy: 0.0000e+00\n",
            "Epoch 107/120\n",
            "1/1 [==============================] - 1s 1s/step - loss: 3.6358 - accuracy: 0.1053 - val_loss: 3.7901 - val_accuracy: 0.0000e+00\n",
            "Epoch 108/120\n",
            "1/1 [==============================] - 1s 1s/step - loss: 3.6353 - accuracy: 0.1053 - val_loss: 3.7909 - val_accuracy: 0.0000e+00\n",
            "Epoch 109/120\n",
            "1/1 [==============================] - 1s 985ms/step - loss: 3.6349 - accuracy: 0.1053 - val_loss: 3.7916 - val_accuracy: 0.0000e+00\n",
            "Epoch 110/120\n",
            "1/1 [==============================] - 1s 852ms/step - loss: 3.6344 - accuracy: 0.1053 - val_loss: 3.7924 - val_accuracy: 0.0000e+00\n",
            "Epoch 111/120\n",
            "1/1 [==============================] - 1s 864ms/step - loss: 3.6339 - accuracy: 0.1053 - val_loss: 3.7932 - val_accuracy: 0.0000e+00\n",
            "Epoch 112/120\n",
            "1/1 [==============================] - 1s 844ms/step - loss: 3.6335 - accuracy: 0.1053 - val_loss: 3.7939 - val_accuracy: 0.0000e+00\n",
            "Epoch 113/120\n",
            "1/1 [==============================] - 1s 837ms/step - loss: 3.6330 - accuracy: 0.1053 - val_loss: 3.7947 - val_accuracy: 0.0000e+00\n",
            "Epoch 114/120\n",
            "1/1 [==============================] - 1s 846ms/step - loss: 3.6326 - accuracy: 0.1053 - val_loss: 3.7954 - val_accuracy: 0.0000e+00\n",
            "Epoch 115/120\n",
            "1/1 [==============================] - 1s 835ms/step - loss: 3.6321 - accuracy: 0.1053 - val_loss: 3.7962 - val_accuracy: 0.0000e+00\n",
            "Epoch 116/120\n",
            "1/1 [==============================] - 1s 848ms/step - loss: 3.6317 - accuracy: 0.1053 - val_loss: 3.7969 - val_accuracy: 0.0000e+00\n",
            "Epoch 117/120\n",
            "1/1 [==============================] - 1s 834ms/step - loss: 3.6312 - accuracy: 0.1053 - val_loss: 3.7977 - val_accuracy: 0.0000e+00\n",
            "Epoch 118/120\n",
            "1/1 [==============================] - 1s 865ms/step - loss: 3.6308 - accuracy: 0.1053 - val_loss: 3.7984 - val_accuracy: 0.0000e+00\n",
            "Epoch 119/120\n",
            "1/1 [==============================] - 1s 847ms/step - loss: 3.6303 - accuracy: 0.1053 - val_loss: 3.7992 - val_accuracy: 0.0000e+00\n",
            "Epoch 120/120\n",
            "1/1 [==============================] - 1s 834ms/step - loss: 3.6299 - accuracy: 0.1053 - val_loss: 3.7999 - val_accuracy: 0.0000e+00\n"
          ]
        }
      ]
    },
    {
      "cell_type": "code",
      "source": [
        "def prediction(seed_text, next_words): \n",
        "  for _ in range(next_words):\n",
        "    token_list = tokenizer.texts_to_sequences([seed_text])[0]\n",
        "    token_list = pad_sequences([token_list], maxlen=max_seq_length-1, padding='pre')  \n",
        "    predicted = np.argmax(model.predict(token_list, verbose=1), axis=-1)  \n",
        "    ouput_word = \"\"  \n",
        "    for word, index in tokenizer.word_index.items():\n",
        "      if index == predicted:\n",
        "        output_word = word\n",
        "        break\n",
        "    seed_text += ' '+output_word\n",
        "    print(seed_text)"
      ],
      "metadata": {
        "id": "rdG5fz_rgbzh"
      },
      "execution_count": 20,
      "outputs": []
    },
    {
      "cell_type": "code",
      "source": [
        "\n",
        "seed_text = \"Artificial Intelligence  \"\n",
        "next_words = len(\"Artificial Intelligence (AI) \".split())\n",
        "prediction(seed_text, next_words)"
      ],
      "metadata": {
        "colab": {
          "base_uri": "https://localhost:8080/"
        },
        "id": "QeFjLURVgzLU",
        "outputId": "df78a6d3-af5c-44a6-9586-3a73f795b0a4"
      },
      "execution_count": 21,
      "outputs": [
        {
          "output_type": "stream",
          "name": "stdout",
          "text": [
            "1/1 [==============================] - 2s 2s/step\n",
            "Artificial Intelligence   and\n",
            "1/1 [==============================] - 0s 36ms/step\n",
            "Artificial Intelligence   and and\n",
            "1/1 [==============================] - 0s 38ms/step\n",
            "Artificial Intelligence   and and and\n"
          ]
        }
      ]
    }
  ]
}